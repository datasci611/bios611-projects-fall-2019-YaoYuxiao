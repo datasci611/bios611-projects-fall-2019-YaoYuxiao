{
 "cells": [
  {
   "cell_type": "markdown",
   "metadata": {},
   "source": [
    "Notebook for project 3."
   ]
  },
  {
   "cell_type": "markdown",
   "metadata": {},
   "source": [
    "### Import data: client"
   ]
  },
  {
   "cell_type": "code",
   "execution_count": null,
   "metadata": {},
   "outputs": [],
   "source": [
    "import pandas as pd\n",
    "import numpy as np\n",
    "\n",
    "client = pd.read_csv(\"../data/CLIENT_191102.tsv\", encoding='utf-8',delimiter='\\t')\n",
    "client.head()\n"
   ]
  },
  {
   "cell_type": "markdown",
   "metadata": {},
   "source": [
    "Clean data by checking values in each column."
   ]
  },
  {
   "cell_type": "code",
   "execution_count": null,
   "metadata": {},
   "outputs": [],
   "source": [
    "client.groupby(\"EE Provider ID\").size()\n"
   ]
  },
  {
   "cell_type": "markdown",
   "metadata": {},
   "source": [
    "For this project, we only keep data from \"Urban Ministries of Durham - Durham County - Singles Emergency Shelter - Private(5838)\" because assumedly others are closed in 2015."
   ]
  },
  {
   "cell_type": "code",
   "execution_count": null,
   "metadata": {},
   "outputs": [],
   "source": [
    "client=client[client[\"EE Provider ID\"]=='Urban Ministries of Durham - Durham County - Singles Emergency Shelter - Private(5838)']"
   ]
  },
  {
   "cell_type": "code",
   "execution_count": null,
   "metadata": {},
   "outputs": [],
   "source": [
    "# get the number of unique values of \"Client Unique ID\"\n",
    "client[\"Client Unique ID\"].nunique()"
   ]
  },
  {
   "cell_type": "code",
   "execution_count": null,
   "metadata": {},
   "outputs": [],
   "source": [
    "# get the number of unique values of \"Client Unique ID\"\n",
    "client[\"Client ID\"].nunique()"
   ]
  },
  {
   "cell_type": "markdown",
   "metadata": {},
   "source": [
    "We have more unique \"Client ID\" than unique \"Client Unique ID\" here, so we will use \"Client ID\" instead of \"Client Unique ID\"."
   ]
  },
  {
   "cell_type": "code",
   "execution_count": null,
   "metadata": {},
   "outputs": [],
   "source": [
    "#drop the \"Client Unique ID\" and \"EE Provider ID\"\n",
    "\n",
    "client = client.drop(['Client Unique ID', 'EE Provider ID'],1)\n",
    "client.head()"
   ]
  },
  {
   "cell_type": "code",
   "execution_count": null,
   "metadata": {},
   "outputs": [],
   "source": [
    "client.groupby(\"Client Age at Entry\").size()"
   ]
  },
  {
   "cell_type": "code",
   "execution_count": null,
   "metadata": {},
   "outputs": [],
   "source": [
    "client.groupby(\"Client Age at Exit\").size()"
   ]
  },
  {
   "cell_type": "code",
   "execution_count": null,
   "metadata": {},
   "outputs": [],
   "source": [
    "client.groupby(\"Client Gender\").size()"
   ]
  },
  {
   "cell_type": "code",
   "execution_count": null,
   "metadata": {},
   "outputs": [],
   "source": [
    "client.groupby(\"Client Primary Race\").size()"
   ]
  },
  {
   "cell_type": "code",
   "execution_count": null,
   "metadata": {},
   "outputs": [],
   "source": [
    "#change \"Client doesn't know\" \"Client refused\" and \"Data not collected\" to NaN\n",
    "client['Client Primary Race']=client['Client Primary Race'].replace(\"Client doesn't know (HUD)\", np.NaN).replace(\"Client refused (HUD)\", np.NaN).replace(\"Data not collected (HUD)\", np.NaN)\n",
    "client.groupby(\"Client Primary Race\").size()"
   ]
  },
  {
   "cell_type": "code",
   "execution_count": null,
   "metadata": {},
   "outputs": [],
   "source": [
    "client.groupby(\"Client Ethnicity\").size()"
   ]
  },
  {
   "cell_type": "code",
   "execution_count": null,
   "metadata": {},
   "outputs": [],
   "source": [
    "client['Client Ethnicity']=client['Client Ethnicity'].replace(\"Client doesn't know (HUD)\", np.NaN).replace(\"Client refused (HUD)\", np.NaN).replace(\"Data not collected (HUD)\", np.NaN)\n",
    "client.groupby(\"Client Ethnicity\").size()"
   ]
  },
  {
   "cell_type": "code",
   "execution_count": null,
   "metadata": {},
   "outputs": [],
   "source": [
    "client.groupby(\"Client Veteran Status\").size()"
   ]
  },
  {
   "cell_type": "code",
   "execution_count": null,
   "metadata": {},
   "outputs": [],
   "source": [
    "client['Client Veteran Status']=client['Client Veteran Status'].replace(\"Data not collected (HUD)\", np.NaN)\n",
    "client.groupby(\"Client Veteran Status\").size()"
   ]
  },
  {
   "cell_type": "markdown",
   "metadata": {},
   "source": [
    "### Import data: entry_exit"
   ]
  },
  {
   "cell_type": "code",
   "execution_count": null,
   "metadata": {},
   "outputs": [],
   "source": [
    "entry_exit = pd.read_csv(\"../data/ENTRY_EXIT_191102.tsv\", encoding='utf-8',delimiter='\\t')\n",
    "entry_exit.head()"
   ]
  },
  {
   "cell_type": "markdown",
   "metadata": {},
   "source": [
    "Clean data: basicly the same thing as client data"
   ]
  },
  {
   "cell_type": "code",
   "execution_count": null,
   "metadata": {},
   "outputs": [],
   "source": [
    "entry_exit.groupby(\"EE Provider ID\").size()\n",
    "entry_exit=entry_exit[entry_exit[\"EE Provider ID\"]=='Urban Ministries of Durham - Durham County - Singles Emergency Shelter - Private(5838)']"
   ]
  },
  {
   "cell_type": "code",
   "execution_count": null,
   "metadata": {},
   "outputs": [],
   "source": [
    "entry_exit = entry_exit.drop(['Client Unique ID', 'EE Provider ID','Entry Exit Group Id','Entry Exit Household Id','Unnamed: 6','Housing Move-in Date(5584)'],1)\n",
    "entry_exit.head()"
   ]
  },
  {
   "cell_type": "code",
   "execution_count": null,
   "metadata": {},
   "outputs": [],
   "source": [
    "entry_exit['Destination']=entry_exit['Destination'].replace(\"Client doesn't know (HUD)\", np.NaN).replace(\"Client refused (HUD)\", np.NaN).replace(\"Data not collected (HUD)\", np.NaN)\n",
    "entry_exit.groupby(\"Destination\").size()"
   ]
  },
  {
   "cell_type": "code",
   "execution_count": null,
   "metadata": {},
   "outputs": [],
   "source": [
    "entry_exit.groupby(\"Reason for Leaving\").size()"
   ]
  },
  {
   "cell_type": "code",
   "execution_count": null,
   "metadata": {},
   "outputs": [],
   "source": [
    "entry_exit.groupby(\"Entry Exit Type\").size()"
   ]
  },
  {
   "cell_type": "code",
   "execution_count": null,
   "metadata": {},
   "outputs": [],
   "source": [
    "entry_exit = entry_exit.drop(['Entry Exit Type','Entry Exit Date Added','Entry Exit Date Updated'],1)\n",
    "entry_exit.head()"
   ]
  },
  {
   "cell_type": "code",
   "execution_count": null,
   "metadata": {},
   "outputs": [],
   "source": [
    "entry_exit[['Entry Date', 'Exit Date']] = entry_exit[['Entry Date', 'Exit Date']].apply(pd.to_datetime)\n",
    "entry_exit['stay_days']=entry_exit['Exit Date'] - entry_exit['Entry Date']\n",
    "entry_exit.head()"
   ]
  },
  {
   "cell_type": "markdown",
   "metadata": {},
   "source": [
    "### Import data: ee_udes"
   ]
  },
  {
   "cell_type": "code",
   "execution_count": null,
   "metadata": {},
   "outputs": [],
   "source": [
    "ee_udes = pd.read_csv(\"../data/EE_UDES_191102.tsv\", delimiter='\\t', encoding='utf-8')\n",
    "ee_udes.head()"
   ]
  },
  {
   "cell_type": "code",
   "execution_count": null,
   "metadata": {},
   "outputs": [],
   "source": [
    "ee_udes=ee_udes[ee_udes[\"EE Provider ID\"]=='Urban Ministries of Durham - Durham County - Singles Emergency Shelter - Private(5838)']"
   ]
  },
  {
   "cell_type": "code",
   "execution_count": null,
   "metadata": {},
   "outputs": [],
   "source": [
    "ee_udes = ee_udes.drop(['Client Unique ID', 'EE Provider ID'],1)\n",
    "ee_udes.head()"
   ]
  },
  {
   "cell_type": "code",
   "execution_count": null,
   "metadata": {},
   "outputs": [],
   "source": [
    "#How many rows in dataframe?\n",
    "ee_udes.shape[0]"
   ]
  },
  {
   "cell_type": "code",
   "execution_count": null,
   "metadata": {},
   "outputs": [],
   "source": [
    "ee_udes.groupby(\"Did you stay less than 7 nights?(5164)\").size()"
   ]
  },
  {
   "cell_type": "code",
   "execution_count": null,
   "metadata": {},
   "outputs": [],
   "source": [
    "ee_udes.groupby(\"Did you stay less than 90 days?(5163)\").size()"
   ]
  },
  {
   "cell_type": "code",
   "execution_count": null,
   "metadata": {},
   "outputs": [],
   "source": [
    "ee_udes.groupby(\"On the night before did you stay on the streets, ES or SH?(5165)\").size()"
   ]
  },
  {
   "cell_type": "code",
   "execution_count": null,
   "metadata": {},
   "outputs": [],
   "source": [
    "ee_udes.groupby(\"If yes for Domestic violence victim/survivor, when experience occurred(1917)\").size()"
   ]
  },
  {
   "cell_type": "markdown",
   "metadata": {},
   "source": [
    "Drop four columns above since there are too many missing values."
   ]
  },
  {
   "cell_type": "code",
   "execution_count": null,
   "metadata": {},
   "outputs": [],
   "source": [
    "ee_udes = ee_udes.drop(['Did you stay less than 7 nights?(5164)', 'Did you stay less than 90 days?(5163)','On the night before did you stay on the streets, ES or SH?(5165)','If yes for Domestic violence victim/survivor, when experience occurred(1917)'],1)\n",
    "ee_udes.head()"
   ]
  },
  {
   "cell_type": "code",
   "execution_count": null,
   "metadata": {},
   "outputs": [],
   "source": [
    "ee_reviews = pd.read_csv(\"../data/EE_REVIEWS_191102.tsv\", delimiter='\\t', encoding='utf-8')\n",
    "ee_reviews.head()"
   ]
  },
  {
   "cell_type": "code",
   "execution_count": null,
   "metadata": {},
   "outputs": [],
   "source": [
    "client[\"EE UID\"].nunique()"
   ]
  },
  {
   "cell_type": "code",
   "execution_count": null,
   "metadata": {},
   "outputs": [],
   "source": [
    "entry_exit[\"EE UID\"].nunique()"
   ]
  },
  {
   "cell_type": "code",
   "execution_count": null,
   "metadata": {},
   "outputs": [],
   "source": [
    "ee_udes[\"EE UID\"].nunique()"
   ]
  },
  {
   "cell_type": "markdown",
   "metadata": {},
   "source": [
    "### Merge data\n",
    "The data frames of \"client\" \"entry_exit\" and \"ee_udes\" have the same number of \"EE UID\" values. Join them on this key."
   ]
  },
  {
   "cell_type": "code",
   "execution_count": null,
   "metadata": {},
   "outputs": [],
   "source": [
    "merged_data=pd.merge(pd.merge(client, entry_exit, how='left', on='EE UID'),ee_udes,how='left', on='EE UID')\n",
    "merged_data = merged_data.drop(['Client ID_y', 'Client ID'],1)\n",
    "df.rename(columns={\"Client ID_x\": \"Client ID\"})\n",
    "merged_data"
   ]
  },
  {
   "cell_type": "markdown",
   "metadata": {},
   "source": [
    "Keep only clients' first entry and merge data frames on \"Client ID\"."
   ]
  },
  {
   "cell_type": "code",
   "execution_count": null,
   "metadata": {},
   "outputs": [],
   "source": [
    "client_first = client.drop_duplicates(subset='Client ID', keep='first')\n",
    "client_first = client_first.drop(['EE UID'],1)\n",
    "entry_exit_first=entry_exit.drop_duplicates(subset='Client ID', keep='first')\n",
    "entry_exit_first = entry_exit_first.drop(['EE UID'],1)\n",
    "ee_udes_first=ee_udes.drop_duplicates(subset='Client ID', keep='first')\n",
    "ee_udes_first = ee_udes_first.drop(['EE UID'],1)\n",
    "merged_data_client=pd.merge(pd.merge(client_first, entry_exit_first, how='left', on='Client ID'),ee_udes_first,how='left', on='Client ID')\n",
    "merged_data_client"
   ]
  },
  {
   "cell_type": "code",
   "execution_count": null,
   "metadata": {},
   "outputs": [],
   "source": []
  },
  {
   "cell_type": "code",
   "execution_count": null,
   "metadata": {},
   "outputs": [],
   "source": [
    "merged_data.to_csv(\"../data/merged_data.tsv\", sep='\\t')"
   ]
  },
  {
   "cell_type": "code",
   "execution_count": null,
   "metadata": {},
   "outputs": [],
   "source": [
    "merged_data_client.to_csv(\"../data/merged_data_client.tsv\", sep='\\t')"
   ]
  },
  {
   "cell_type": "code",
   "execution_count": null,
   "metadata": {},
   "outputs": [],
   "source": [
    "for column in merged_data.columns: \n",
    "    print(column)"
   ]
  },
  {
   "cell_type": "code",
   "execution_count": null,
   "metadata": {},
   "outputs": [],
   "source": [
    "all_sort = merged_data.sort_values(by=['Entry Date'], ascending=True)\n",
    "all_sort"
   ]
  },
  {
   "cell_type": "markdown",
   "metadata": {},
   "source": [
    "### Import data: health_ins_entry and health_ins_exit"
   ]
  },
  {
   "cell_type": "code",
   "execution_count": null,
   "metadata": {},
   "outputs": [],
   "source": [
    "import pandas as pd\n",
    "health_ins_entry = pd.read_csv(\"../data/HEALTH_INS_ENTRY_191102.tsv\", delimiter='\\t', encoding='utf-8')\n",
    "health_ins_entry.head()"
   ]
  },
  {
   "cell_type": "code",
   "execution_count": null,
   "metadata": {},
   "outputs": [],
   "source": [
    "health_ins_exit = pd.read_csv(\"../data/HEALTH_INS_EXIT_191102.tsv\", delimiter='\\t', encoding='utf-8')\n",
    "health_ins_exit.head()"
   ]
  },
  {
   "cell_type": "code",
   "execution_count": null,
   "metadata": {},
   "outputs": [],
   "source": [
    "health_ins_entry=health_ins_entry[health_ins_entry[\"EE Provider ID\"]=='Urban Ministries of Durham - Durham County - Singles Emergency Shelter - Private(5838)']\n",
    "health_ins_exit=health_ins_exit[health_ins_exit[\"EE Provider ID\"]=='Urban Ministries of Durham - Durham County - Singles Emergency Shelter - Private(5838)']\n",
    "health_ins_entry = health_ins_entry.drop(['Client Unique ID', 'EE Provider ID','Recordset ID (4307-recordset_id)','Date Added (4307-date_added)'],1)\n",
    "health_ins_exit = health_ins_exit.drop(['Client Unique ID', 'EE Provider ID','Recordset ID (4307-recordset_id)','Date Added (4307-date_added)'],1)\n"
   ]
  },
  {
   "cell_type": "markdown",
   "metadata": {},
   "source": [
    "Keep only clients' first entry and merge data frames on \"Client ID\"."
   ]
  },
  {
   "cell_type": "code",
   "execution_count": null,
   "metadata": {},
   "outputs": [],
   "source": [
    "health_ins_entry_first=health_ins_entry.drop_duplicates(subset='Client ID', keep='first')\n",
    "health_ins_entry_first = health_ins_entry_first.drop(['EE UID'],1)\n",
    "health_ins_exit_first=health_ins_exit.drop_duplicates(subset='Client ID', keep='first')\n",
    "health_ins_exit_first = health_ins_exit_first.drop(['EE UID'],1)\n",
    "merged_data_health_ins=pd.merge(health_ins_entry_first, health_ins_exit_first, how='left', on='Client ID')\n",
    "merged_data_health_ins.to_csv(\"../data/merged_data_health_ins.tsv\", sep='\\t')\n"
   ]
  },
  {
   "cell_type": "code",
   "execution_count": null,
   "metadata": {},
   "outputs": [],
   "source": [
    "merged_data_health_ins.head()"
   ]
  },
  {
   "cell_type": "markdown",
   "metadata": {},
   "source": [
    "### Import data: income_entry and income_exit"
   ]
  },
  {
   "cell_type": "code",
   "execution_count": 1,
   "metadata": {},
   "outputs": [
    {
     "data": {
      "text/html": [
       "<div>\n",
       "<style scoped>\n",
       "    .dataframe tbody tr th:only-of-type {\n",
       "        vertical-align: middle;\n",
       "    }\n",
       "\n",
       "    .dataframe tbody tr th {\n",
       "        vertical-align: top;\n",
       "    }\n",
       "\n",
       "    .dataframe thead th {\n",
       "        text-align: right;\n",
       "    }\n",
       "</style>\n",
       "<table border=\"1\" class=\"dataframe\">\n",
       "  <thead>\n",
       "    <tr style=\"text-align: right;\">\n",
       "      <th></th>\n",
       "      <th>EE Provider ID</th>\n",
       "      <th>EE UID</th>\n",
       "      <th>Client Unique ID</th>\n",
       "      <th>Client ID</th>\n",
       "      <th>Receiving Income (Entry)</th>\n",
       "      <th>Income Source (Entry)</th>\n",
       "      <th>Monthly Amount (Entry)</th>\n",
       "      <th>Income Start Date (Entry)</th>\n",
       "      <th>Income End Date (Entry)</th>\n",
       "      <th>Recordset ID (140-recordset_id)</th>\n",
       "      <th>Provider (140-provider)</th>\n",
       "      <th>Date Added (140-date_added)</th>\n",
       "    </tr>\n",
       "  </thead>\n",
       "  <tbody>\n",
       "    <tr>\n",
       "      <td>0</td>\n",
       "      <td>Urban Ministries of Durham - Durham County - S...</td>\n",
       "      <td>687901</td>\n",
       "      <td>pbkf09291954p610b236</td>\n",
       "      <td>397941</td>\n",
       "      <td>No</td>\n",
       "      <td>Alimony or Other Spousal Support (HUD)</td>\n",
       "      <td>NaN</td>\n",
       "      <td>4/20/2015</td>\n",
       "      <td>NaN</td>\n",
       "      <td>3263585</td>\n",
       "      <td>Urban Ministries of Durham - Durham County - S...</td>\n",
       "      <td>12/31/2015</td>\n",
       "    </tr>\n",
       "    <tr>\n",
       "      <td>1</td>\n",
       "      <td>Urban Ministries of Durham - Durham County - S...</td>\n",
       "      <td>687901</td>\n",
       "      <td>pbkf09291954p610b236</td>\n",
       "      <td>397941</td>\n",
       "      <td>No</td>\n",
       "      <td>Child Support (HUD)</td>\n",
       "      <td>NaN</td>\n",
       "      <td>4/20/2015</td>\n",
       "      <td>NaN</td>\n",
       "      <td>3263586</td>\n",
       "      <td>Urban Ministries of Durham - Durham County - S...</td>\n",
       "      <td>12/31/2015</td>\n",
       "    </tr>\n",
       "    <tr>\n",
       "      <td>2</td>\n",
       "      <td>Urban Ministries of Durham - Durham County - S...</td>\n",
       "      <td>687901</td>\n",
       "      <td>pbkf09291954p610b236</td>\n",
       "      <td>397941</td>\n",
       "      <td>No</td>\n",
       "      <td>Earned Income (HUD)</td>\n",
       "      <td>NaN</td>\n",
       "      <td>4/20/2015</td>\n",
       "      <td>NaN</td>\n",
       "      <td>3263590</td>\n",
       "      <td>Urban Ministries of Durham - Durham County - S...</td>\n",
       "      <td>12/31/2015</td>\n",
       "    </tr>\n",
       "    <tr>\n",
       "      <td>3</td>\n",
       "      <td>Urban Ministries of Durham - Durham County - S...</td>\n",
       "      <td>687901</td>\n",
       "      <td>pbkf09291954p610b236</td>\n",
       "      <td>397941</td>\n",
       "      <td>No</td>\n",
       "      <td>General Assistance (HUD)</td>\n",
       "      <td>NaN</td>\n",
       "      <td>4/20/2015</td>\n",
       "      <td>NaN</td>\n",
       "      <td>3263587</td>\n",
       "      <td>Urban Ministries of Durham - Durham County - S...</td>\n",
       "      <td>12/31/2015</td>\n",
       "    </tr>\n",
       "    <tr>\n",
       "      <td>4</td>\n",
       "      <td>Urban Ministries of Durham - Durham County - S...</td>\n",
       "      <td>687901</td>\n",
       "      <td>pbkf09291954p610b236</td>\n",
       "      <td>397941</td>\n",
       "      <td>No</td>\n",
       "      <td>Other (HUD)</td>\n",
       "      <td>NaN</td>\n",
       "      <td>4/20/2015</td>\n",
       "      <td>NaN</td>\n",
       "      <td>3263599</td>\n",
       "      <td>Urban Ministries of Durham - Durham County - S...</td>\n",
       "      <td>12/31/2015</td>\n",
       "    </tr>\n",
       "  </tbody>\n",
       "</table>\n",
       "</div>"
      ],
      "text/plain": [
       "                                      EE Provider ID  EE UID  \\\n",
       "0  Urban Ministries of Durham - Durham County - S...  687901   \n",
       "1  Urban Ministries of Durham - Durham County - S...  687901   \n",
       "2  Urban Ministries of Durham - Durham County - S...  687901   \n",
       "3  Urban Ministries of Durham - Durham County - S...  687901   \n",
       "4  Urban Ministries of Durham - Durham County - S...  687901   \n",
       "\n",
       "       Client Unique ID  Client ID Receiving Income (Entry)  \\\n",
       "0  pbkf09291954p610b236     397941                       No   \n",
       "1  pbkf09291954p610b236     397941                       No   \n",
       "2  pbkf09291954p610b236     397941                       No   \n",
       "3  pbkf09291954p610b236     397941                       No   \n",
       "4  pbkf09291954p610b236     397941                       No   \n",
       "\n",
       "                    Income Source (Entry)  Monthly Amount (Entry)  \\\n",
       "0  Alimony or Other Spousal Support (HUD)                     NaN   \n",
       "1                     Child Support (HUD)                     NaN   \n",
       "2                     Earned Income (HUD)                     NaN   \n",
       "3                General Assistance (HUD)                     NaN   \n",
       "4                             Other (HUD)                     NaN   \n",
       "\n",
       "  Income Start Date (Entry) Income End Date (Entry)  \\\n",
       "0                 4/20/2015                     NaN   \n",
       "1                 4/20/2015                     NaN   \n",
       "2                 4/20/2015                     NaN   \n",
       "3                 4/20/2015                     NaN   \n",
       "4                 4/20/2015                     NaN   \n",
       "\n",
       "   Recordset ID (140-recordset_id)  \\\n",
       "0                          3263585   \n",
       "1                          3263586   \n",
       "2                          3263590   \n",
       "3                          3263587   \n",
       "4                          3263599   \n",
       "\n",
       "                             Provider (140-provider)  \\\n",
       "0  Urban Ministries of Durham - Durham County - S...   \n",
       "1  Urban Ministries of Durham - Durham County - S...   \n",
       "2  Urban Ministries of Durham - Durham County - S...   \n",
       "3  Urban Ministries of Durham - Durham County - S...   \n",
       "4  Urban Ministries of Durham - Durham County - S...   \n",
       "\n",
       "  Date Added (140-date_added)  \n",
       "0                  12/31/2015  \n",
       "1                  12/31/2015  \n",
       "2                  12/31/2015  \n",
       "3                  12/31/2015  \n",
       "4                  12/31/2015  "
      ]
     },
     "execution_count": 1,
     "metadata": {},
     "output_type": "execute_result"
    }
   ],
   "source": [
    "import pandas as pd\n",
    "income_entry = pd.read_csv(\"../data/INCOME_ENTRY_191102.tsv\", delimiter='\\t', encoding='utf-8')\n",
    "income_entry.head()"
   ]
  },
  {
   "cell_type": "code",
   "execution_count": 2,
   "metadata": {},
   "outputs": [
    {
     "data": {
      "text/html": [
       "<div>\n",
       "<style scoped>\n",
       "    .dataframe tbody tr th:only-of-type {\n",
       "        vertical-align: middle;\n",
       "    }\n",
       "\n",
       "    .dataframe tbody tr th {\n",
       "        vertical-align: top;\n",
       "    }\n",
       "\n",
       "    .dataframe thead th {\n",
       "        text-align: right;\n",
       "    }\n",
       "</style>\n",
       "<table border=\"1\" class=\"dataframe\">\n",
       "  <thead>\n",
       "    <tr style=\"text-align: right;\">\n",
       "      <th></th>\n",
       "      <th>EE Provider ID</th>\n",
       "      <th>EE UID</th>\n",
       "      <th>Client Unique ID</th>\n",
       "      <th>Client ID</th>\n",
       "      <th>ReceivingIncome (Exit)</th>\n",
       "      <th>Source of Income (Exit)</th>\n",
       "      <th>Monthly Amount (Exit)</th>\n",
       "      <th>Income Start Date (Exit)</th>\n",
       "      <th>Income End Date (Exit)</th>\n",
       "      <th>Recordset ID (140-recordset_id)</th>\n",
       "      <th>Provider (140-provider)</th>\n",
       "      <th>Date Added (140-date_added)</th>\n",
       "    </tr>\n",
       "  </thead>\n",
       "  <tbody>\n",
       "    <tr>\n",
       "      <td>0</td>\n",
       "      <td>Urban Ministries of Durham - Durham County - S...</td>\n",
       "      <td>687901</td>\n",
       "      <td>pbkf09291954p610b236</td>\n",
       "      <td>397941</td>\n",
       "      <td>No</td>\n",
       "      <td>Alimony or Other Spousal Support (HUD)</td>\n",
       "      <td>NaN</td>\n",
       "      <td>4/20/2015</td>\n",
       "      <td>NaN</td>\n",
       "      <td>3263585</td>\n",
       "      <td>Urban Ministries of Durham - Durham County - S...</td>\n",
       "      <td>12/31/2015</td>\n",
       "    </tr>\n",
       "    <tr>\n",
       "      <td>1</td>\n",
       "      <td>Urban Ministries of Durham - Durham County - S...</td>\n",
       "      <td>687901</td>\n",
       "      <td>pbkf09291954p610b236</td>\n",
       "      <td>397941</td>\n",
       "      <td>No</td>\n",
       "      <td>Child Support (HUD)</td>\n",
       "      <td>NaN</td>\n",
       "      <td>4/20/2015</td>\n",
       "      <td>NaN</td>\n",
       "      <td>3263586</td>\n",
       "      <td>Urban Ministries of Durham - Durham County - S...</td>\n",
       "      <td>12/31/2015</td>\n",
       "    </tr>\n",
       "    <tr>\n",
       "      <td>2</td>\n",
       "      <td>Urban Ministries of Durham - Durham County - S...</td>\n",
       "      <td>687901</td>\n",
       "      <td>pbkf09291954p610b236</td>\n",
       "      <td>397941</td>\n",
       "      <td>No</td>\n",
       "      <td>Earned Income (HUD)</td>\n",
       "      <td>NaN</td>\n",
       "      <td>4/20/2015</td>\n",
       "      <td>NaN</td>\n",
       "      <td>3263590</td>\n",
       "      <td>Urban Ministries of Durham - Durham County - S...</td>\n",
       "      <td>12/31/2015</td>\n",
       "    </tr>\n",
       "    <tr>\n",
       "      <td>3</td>\n",
       "      <td>Urban Ministries of Durham - Durham County - S...</td>\n",
       "      <td>687901</td>\n",
       "      <td>pbkf09291954p610b236</td>\n",
       "      <td>397941</td>\n",
       "      <td>No</td>\n",
       "      <td>General Assistance (HUD)</td>\n",
       "      <td>NaN</td>\n",
       "      <td>4/20/2015</td>\n",
       "      <td>NaN</td>\n",
       "      <td>3263587</td>\n",
       "      <td>Urban Ministries of Durham - Durham County - S...</td>\n",
       "      <td>12/31/2015</td>\n",
       "    </tr>\n",
       "    <tr>\n",
       "      <td>4</td>\n",
       "      <td>Urban Ministries of Durham - Durham County - S...</td>\n",
       "      <td>687901</td>\n",
       "      <td>pbkf09291954p610b236</td>\n",
       "      <td>397941</td>\n",
       "      <td>No</td>\n",
       "      <td>Other (HUD)</td>\n",
       "      <td>NaN</td>\n",
       "      <td>4/20/2015</td>\n",
       "      <td>NaN</td>\n",
       "      <td>3263599</td>\n",
       "      <td>Urban Ministries of Durham - Durham County - S...</td>\n",
       "      <td>12/31/2015</td>\n",
       "    </tr>\n",
       "  </tbody>\n",
       "</table>\n",
       "</div>"
      ],
      "text/plain": [
       "                                      EE Provider ID  EE UID  \\\n",
       "0  Urban Ministries of Durham - Durham County - S...  687901   \n",
       "1  Urban Ministries of Durham - Durham County - S...  687901   \n",
       "2  Urban Ministries of Durham - Durham County - S...  687901   \n",
       "3  Urban Ministries of Durham - Durham County - S...  687901   \n",
       "4  Urban Ministries of Durham - Durham County - S...  687901   \n",
       "\n",
       "       Client Unique ID  Client ID ReceivingIncome (Exit)  \\\n",
       "0  pbkf09291954p610b236     397941                     No   \n",
       "1  pbkf09291954p610b236     397941                     No   \n",
       "2  pbkf09291954p610b236     397941                     No   \n",
       "3  pbkf09291954p610b236     397941                     No   \n",
       "4  pbkf09291954p610b236     397941                     No   \n",
       "\n",
       "                  Source of Income (Exit)  Monthly Amount (Exit)  \\\n",
       "0  Alimony or Other Spousal Support (HUD)                    NaN   \n",
       "1                     Child Support (HUD)                    NaN   \n",
       "2                     Earned Income (HUD)                    NaN   \n",
       "3                General Assistance (HUD)                    NaN   \n",
       "4                             Other (HUD)                    NaN   \n",
       "\n",
       "  Income Start Date (Exit) Income End Date (Exit)  \\\n",
       "0                4/20/2015                    NaN   \n",
       "1                4/20/2015                    NaN   \n",
       "2                4/20/2015                    NaN   \n",
       "3                4/20/2015                    NaN   \n",
       "4                4/20/2015                    NaN   \n",
       "\n",
       "   Recordset ID (140-recordset_id)  \\\n",
       "0                          3263585   \n",
       "1                          3263586   \n",
       "2                          3263590   \n",
       "3                          3263587   \n",
       "4                          3263599   \n",
       "\n",
       "                             Provider (140-provider)  \\\n",
       "0  Urban Ministries of Durham - Durham County - S...   \n",
       "1  Urban Ministries of Durham - Durham County - S...   \n",
       "2  Urban Ministries of Durham - Durham County - S...   \n",
       "3  Urban Ministries of Durham - Durham County - S...   \n",
       "4  Urban Ministries of Durham - Durham County - S...   \n",
       "\n",
       "  Date Added (140-date_added)  \n",
       "0                  12/31/2015  \n",
       "1                  12/31/2015  \n",
       "2                  12/31/2015  \n",
       "3                  12/31/2015  \n",
       "4                  12/31/2015  "
      ]
     },
     "execution_count": 2,
     "metadata": {},
     "output_type": "execute_result"
    }
   ],
   "source": [
    "income_exit = pd.read_csv(\"../data/INCOME_EXIT_191102.tsv\", delimiter='\\t', encoding='utf-8')\n",
    "income_exit.head()"
   ]
  },
  {
   "cell_type": "code",
   "execution_count": 4,
   "metadata": {},
   "outputs": [
    {
     "data": {
      "text/html": [
       "<div>\n",
       "<style scoped>\n",
       "    .dataframe tbody tr th:only-of-type {\n",
       "        vertical-align: middle;\n",
       "    }\n",
       "\n",
       "    .dataframe tbody tr th {\n",
       "        vertical-align: top;\n",
       "    }\n",
       "\n",
       "    .dataframe thead th {\n",
       "        text-align: right;\n",
       "    }\n",
       "</style>\n",
       "<table border=\"1\" class=\"dataframe\">\n",
       "  <thead>\n",
       "    <tr style=\"text-align: right;\">\n",
       "      <th></th>\n",
       "      <th>Client ID</th>\n",
       "      <th>Receiving Income (Entry)</th>\n",
       "      <th>Income Source (Entry)</th>\n",
       "      <th>Monthly Amount (Entry)</th>\n",
       "      <th>Income Start Date (Entry)</th>\n",
       "      <th>Income End Date (Entry)</th>\n",
       "      <th>Provider (140-provider)_x</th>\n",
       "      <th>ReceivingIncome (Exit)</th>\n",
       "      <th>Source of Income (Exit)</th>\n",
       "      <th>Monthly Amount (Exit)</th>\n",
       "      <th>Income Start Date (Exit)</th>\n",
       "      <th>Income End Date (Exit)</th>\n",
       "      <th>Provider (140-provider)_y</th>\n",
       "    </tr>\n",
       "  </thead>\n",
       "  <tbody>\n",
       "    <tr>\n",
       "      <td>0</td>\n",
       "      <td>397941</td>\n",
       "      <td>No</td>\n",
       "      <td>Alimony or Other Spousal Support (HUD)</td>\n",
       "      <td>NaN</td>\n",
       "      <td>4/20/2015</td>\n",
       "      <td>NaN</td>\n",
       "      <td>Urban Ministries of Durham - Durham County - S...</td>\n",
       "      <td>No</td>\n",
       "      <td>Alimony or Other Spousal Support (HUD)</td>\n",
       "      <td>NaN</td>\n",
       "      <td>4/20/2015</td>\n",
       "      <td>NaN</td>\n",
       "      <td>Urban Ministries of Durham - Durham County - S...</td>\n",
       "    </tr>\n",
       "    <tr>\n",
       "      <td>1</td>\n",
       "      <td>130335</td>\n",
       "      <td>No</td>\n",
       "      <td>Alimony or Other Spousal Support (HUD)</td>\n",
       "      <td>NaN</td>\n",
       "      <td>6/13/2015</td>\n",
       "      <td>NaN</td>\n",
       "      <td>Urban Ministries of Durham - Durham County - S...</td>\n",
       "      <td>No</td>\n",
       "      <td>Alimony or Other Spousal Support (HUD)</td>\n",
       "      <td>NaN</td>\n",
       "      <td>6/13/2015</td>\n",
       "      <td>NaN</td>\n",
       "      <td>Urban Ministries of Durham - Durham County - S...</td>\n",
       "    </tr>\n",
       "    <tr>\n",
       "      <td>2</td>\n",
       "      <td>188933</td>\n",
       "      <td>No</td>\n",
       "      <td>Alimony or Other Spousal Support (HUD)</td>\n",
       "      <td>NaN</td>\n",
       "      <td>3/28/2014</td>\n",
       "      <td>NaN</td>\n",
       "      <td>Urban Ministries of Durham - Durham County - S...</td>\n",
       "      <td>No</td>\n",
       "      <td>Alimony or Other Spousal Support (HUD)</td>\n",
       "      <td>NaN</td>\n",
       "      <td>3/28/2014</td>\n",
       "      <td>NaN</td>\n",
       "      <td>Urban Ministries of Durham - Durham County - S...</td>\n",
       "    </tr>\n",
       "    <tr>\n",
       "      <td>3</td>\n",
       "      <td>168290</td>\n",
       "      <td>No</td>\n",
       "      <td>Alimony or Other Spousal Support (HUD)</td>\n",
       "      <td>NaN</td>\n",
       "      <td>10/6/2014</td>\n",
       "      <td>NaN</td>\n",
       "      <td>Urban Ministries of Durham - Durham County(1562)</td>\n",
       "      <td>No</td>\n",
       "      <td>Alimony or Other Spousal Support (HUD)</td>\n",
       "      <td>NaN</td>\n",
       "      <td>10/6/2014</td>\n",
       "      <td>NaN</td>\n",
       "      <td>Urban Ministries of Durham - Durham County(1562)</td>\n",
       "    </tr>\n",
       "    <tr>\n",
       "      <td>4</td>\n",
       "      <td>123122</td>\n",
       "      <td>No</td>\n",
       "      <td>Alimony or Other Spousal Support (HUD)</td>\n",
       "      <td>NaN</td>\n",
       "      <td>8/1/2013</td>\n",
       "      <td>NaN</td>\n",
       "      <td>Urban Ministries of Durham - Durham County(1562)</td>\n",
       "      <td>No</td>\n",
       "      <td>Alimony or Other Spousal Support (HUD)</td>\n",
       "      <td>NaN</td>\n",
       "      <td>8/1/2013</td>\n",
       "      <td>NaN</td>\n",
       "      <td>Urban Ministries of Durham - Durham County(1562)</td>\n",
       "    </tr>\n",
       "  </tbody>\n",
       "</table>\n",
       "</div>"
      ],
      "text/plain": [
       "   Client ID Receiving Income (Entry)                   Income Source (Entry)  \\\n",
       "0     397941                       No  Alimony or Other Spousal Support (HUD)   \n",
       "1     130335                       No  Alimony or Other Spousal Support (HUD)   \n",
       "2     188933                       No  Alimony or Other Spousal Support (HUD)   \n",
       "3     168290                       No  Alimony or Other Spousal Support (HUD)   \n",
       "4     123122                       No  Alimony or Other Spousal Support (HUD)   \n",
       "\n",
       "   Monthly Amount (Entry) Income Start Date (Entry) Income End Date (Entry)  \\\n",
       "0                     NaN                 4/20/2015                     NaN   \n",
       "1                     NaN                 6/13/2015                     NaN   \n",
       "2                     NaN                 3/28/2014                     NaN   \n",
       "3                     NaN                 10/6/2014                     NaN   \n",
       "4                     NaN                  8/1/2013                     NaN   \n",
       "\n",
       "                           Provider (140-provider)_x ReceivingIncome (Exit)  \\\n",
       "0  Urban Ministries of Durham - Durham County - S...                     No   \n",
       "1  Urban Ministries of Durham - Durham County - S...                     No   \n",
       "2  Urban Ministries of Durham - Durham County - S...                     No   \n",
       "3   Urban Ministries of Durham - Durham County(1562)                     No   \n",
       "4   Urban Ministries of Durham - Durham County(1562)                     No   \n",
       "\n",
       "                  Source of Income (Exit)  Monthly Amount (Exit)  \\\n",
       "0  Alimony or Other Spousal Support (HUD)                    NaN   \n",
       "1  Alimony or Other Spousal Support (HUD)                    NaN   \n",
       "2  Alimony or Other Spousal Support (HUD)                    NaN   \n",
       "3  Alimony or Other Spousal Support (HUD)                    NaN   \n",
       "4  Alimony or Other Spousal Support (HUD)                    NaN   \n",
       "\n",
       "  Income Start Date (Exit) Income End Date (Exit)  \\\n",
       "0                4/20/2015                    NaN   \n",
       "1                6/13/2015                    NaN   \n",
       "2                3/28/2014                    NaN   \n",
       "3                10/6/2014                    NaN   \n",
       "4                 8/1/2013                    NaN   \n",
       "\n",
       "                           Provider (140-provider)_y  \n",
       "0  Urban Ministries of Durham - Durham County - S...  \n",
       "1  Urban Ministries of Durham - Durham County - S...  \n",
       "2  Urban Ministries of Durham - Durham County - S...  \n",
       "3   Urban Ministries of Durham - Durham County(1562)  \n",
       "4   Urban Ministries of Durham - Durham County(1562)  "
      ]
     },
     "execution_count": 4,
     "metadata": {},
     "output_type": "execute_result"
    }
   ],
   "source": [
    "income_entry=income_entry[income_entry[\"EE Provider ID\"]=='Urban Ministries of Durham - Durham County - Singles Emergency Shelter - Private(5838)']\n",
    "income_exit=income_exit[income_exit[\"EE Provider ID\"]=='Urban Ministries of Durham - Durham County - Singles Emergency Shelter - Private(5838)']\n",
    "income_entry = income_entry.drop(['Client Unique ID', 'EE Provider ID','Recordset ID (140-recordset_id)','Date Added (140-date_added)'],1)\n",
    "income_exit = income_exit.drop(['Client Unique ID', 'EE Provider ID','Recordset ID (140-recordset_id)','Date Added (140-date_added)'],1)\n",
    "\n",
    "income_entry_first=income_entry.drop_duplicates(subset='Client ID', keep='first')\n",
    "income_entry_first = income_entry_first.drop(['EE UID'],1)\n",
    "income_exit_first=income_exit.drop_duplicates(subset='Client ID', keep='first')\n",
    "income_exit_first = income_exit_first.drop(['EE UID'],1)\n",
    "merged_data_income=pd.merge(income_entry_first, income_exit_first, how='left', on='Client ID')\n",
    "merged_data_income.to_csv(\"../data/merged_data_income.tsv\", sep='\\t')\n",
    "merged_data_income.head()"
   ]
  },
  {
   "cell_type": "code",
   "execution_count": null,
   "metadata": {},
   "outputs": [],
   "source": []
  }
 ],
 "metadata": {
  "kernelspec": {
   "display_name": "Python 3",
   "language": "python",
   "name": "python3"
  },
  "language_info": {
   "codemirror_mode": {
    "name": "ipython",
    "version": 3
   },
   "file_extension": ".py",
   "mimetype": "text/x-python",
   "name": "python",
   "nbconvert_exporter": "python",
   "pygments_lexer": "ipython3",
   "version": "3.7.4"
  }
 },
 "nbformat": 4,
 "nbformat_minor": 2
}
